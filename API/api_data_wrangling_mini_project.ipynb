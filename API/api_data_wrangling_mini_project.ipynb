{
 "cells": [
  {
   "cell_type": "markdown",
   "metadata": {},
   "source": [
    "This exercise will require you to pull some data from the Qunadl API. Qaundl is currently the most widely used aggregator of financial market data."
   ]
  },
  {
   "cell_type": "markdown",
   "metadata": {},
   "source": [
    "As a first step, you will need to register a free account on the http://www.quandl.com website."
   ]
  },
  {
   "cell_type": "markdown",
   "metadata": {},
   "source": [
    "After you register, you will be provided with a unique API key, that you should store:"
   ]
  },
  {
   "cell_type": "code",
   "execution_count": 1,
   "metadata": {},
   "outputs": [],
   "source": [
    "# Store the API key as a string - according to PEP8, constants are always named in all upper case\n",
    "API_KEY = 'api_key_here'"
   ]
  },
  {
   "cell_type": "markdown",
   "metadata": {},
   "source": [
    "Qaundl has a large number of data sources, but, unfortunately, most of them require a Premium subscription. Still, there are also a good number of free datasets."
   ]
  },
  {
   "cell_type": "markdown",
   "metadata": {},
   "source": [
    "For this mini project, we will focus on equities data from the Frankfurt Stock Exhange (FSE), which is available for free. We'll try and analyze the stock prices of a company called Carl Zeiss Meditec, which manufactures tools for eye examinations, as well as medical lasers for laser eye surgery: https://www.zeiss.com/meditec/int/home.html. The company is listed under the stock ticker AFX_X."
   ]
  },
  {
   "cell_type": "markdown",
   "metadata": {},
   "source": [
    "You can find the detailed Quandl API instructions here: https://docs.quandl.com/docs/time-series"
   ]
  },
  {
   "cell_type": "markdown",
   "metadata": {},
   "source": [
    "While there is a dedicated Python package for connecting to the Quandl API, we would prefer that you use the *requests* package, which can be easily downloaded using *pip* or *conda*. You can find the documentation for the package here: http://docs.python-requests.org/en/master/ "
   ]
  },
  {
   "cell_type": "markdown",
   "metadata": {},
   "source": [
    "Finally, apart from the *requests* package, you are encouraged to not use any third party Python packages, such as *pandas*, and instead focus on what's available in the Python Standard Library (the *collections* module might come in handy: https://pymotw.com/3/collections/ ).\n",
    "Also, since you won't have access to DataFrames, you are encouraged to us Python's native data structures - preferably dictionaries, though some questions can also be answered using lists.\n",
    "You can read more on these data structures here: https://docs.python.org/3/tutorial/datastructures.html"
   ]
  },
  {
   "cell_type": "markdown",
   "metadata": {},
   "source": [
    "Keep in mind that the JSON responses you will be getting from the API map almost one-to-one to Python's dictionaries. Unfortunately, they can be very nested, so make sure you read up on indexing dictionaries in the documentation provided above."
   ]
  },
  {
   "cell_type": "code",
   "execution_count": 2,
   "metadata": {},
   "outputs": [],
   "source": [
    "# First, import the relevant modules\n",
    "from collections import defaultdict\n",
    "import requests"
   ]
  },
  {
   "cell_type": "code",
   "execution_count": 3,
   "metadata": {},
   "outputs": [],
   "source": [
    "# Now, call the Quandl API and pull out a small sample of the data (only one day) to get a glimpse\n",
    "# into the JSON structure that will be returned\n",
    "r = requests.get('https://www.quandl.com/api/v3/datasets/FSE/AFX_X.json?collapse=daily&limit=1&api_key='+API_KEY)"
   ]
  },
  {
   "cell_type": "code",
   "execution_count": 4,
   "metadata": {},
   "outputs": [
    {
     "data": {
      "text/plain": [
       "{'dataset': {'id': 10095370,\n",
       "  'dataset_code': 'AFX_X',\n",
       "  'database_code': 'FSE',\n",
       "  'name': 'Carl Zeiss Meditec (AFX_X)',\n",
       "  'description': 'Stock Prices for Carl Zeiss Meditec (2019-08-02) from the Frankfurt Stock Exchange.<br><br>Trading System: Xetra<br><br>ISIN: DE0005313704',\n",
       "  'refreshed_at': '2019-08-16T22:30:11.817Z',\n",
       "  'newest_available_date': '2019-08-16',\n",
       "  'oldest_available_date': '2000-06-07',\n",
       "  'column_names': ['Date',\n",
       "   'Open',\n",
       "   'High',\n",
       "   'Low',\n",
       "   'Close',\n",
       "   'Change',\n",
       "   'Traded Volume',\n",
       "   'Turnover',\n",
       "   'Last Price of the Day',\n",
       "   'Daily Traded Units',\n",
       "   'Daily Turnover'],\n",
       "  'frequency': 'daily',\n",
       "  'type': 'Time Series',\n",
       "  'premium': False,\n",
       "  'limit': 1,\n",
       "  'transform': None,\n",
       "  'column_index': None,\n",
       "  'start_date': '2000-06-07',\n",
       "  'end_date': '2019-08-16',\n",
       "  'data': [['2019-08-16',\n",
       "    98.35,\n",
       "    99.4,\n",
       "    97.15,\n",
       "    99.3,\n",
       "    None,\n",
       "    106762.0,\n",
       "    10549874.0,\n",
       "    None,\n",
       "    None,\n",
       "    None]],\n",
       "  'collapse': 'daily',\n",
       "  'order': None,\n",
       "  'database_id': 6129}}"
      ]
     },
     "execution_count": 4,
     "metadata": {},
     "output_type": "execute_result"
    }
   ],
   "source": [
    "# Inspect the JSON structure of the object you created, and take note of how nested it is,\n",
    "# as well as the overall structure\n",
    "r.json()"
   ]
  },
  {
   "cell_type": "markdown",
   "metadata": {},
   "source": [
    "These are your tasks for this mini project:\n",
    "\n",
    "1. Collect data from the Franfurt Stock Exchange, for the ticker AFX_X, for the whole year 2017 (keep in mind that the date format is YYYY-MM-DD).\n",
    "2. Convert the returned JSON object into a Python dictionary.\n",
    "3. Calculate what the highest and lowest opening prices were for the stock in this period.\n",
    "4. What was the largest change in any one day (based on High and Low price)?\n",
    "5. What was the largest change between any two days (based on Closing Price)?\n",
    "6. What was the average daily trading volume during this year?\n",
    "7. (Optional) What was the median trading volume during this year. (Note: you may need to implement your own function for calculating the median.)"
   ]
  },
  {
   "cell_type": "markdown",
   "metadata": {},
   "source": [
    "### 1. Collect data from FSE for the year 2017\n",
    "\n",
    "We can pull data for the year 2017 by specifying the start and end dates. We will also use our API_KEY variable defined above."
   ]
  },
  {
   "cell_type": "code",
   "execution_count": 5,
   "metadata": {},
   "outputs": [],
   "source": [
    "d = requests.get('https://www.quandl.com/api/v3/datasets/FSE/AFX_X.json?start_date=2017-01-01&end_date=2017-12-31&api_key='+API_KEY)"
   ]
  },
  {
   "cell_type": "markdown",
   "metadata": {},
   "source": [
    "### 2. Convert JSON object into a dictionary\n",
    "\n",
    "We can convert the JSON object to a dictionary using the .json() method and verify this using an assert statement."
   ]
  },
  {
   "cell_type": "code",
   "execution_count": 6,
   "metadata": {},
   "outputs": [],
   "source": [
    "json_data = d.json()\n",
    "assert(type(json_data) == dict)"
   ]
  },
  {
   "cell_type": "markdown",
   "metadata": {},
   "source": [
    "#### Preparing for the following tasks\n",
    "\n",
    "In order to accomplish the remaining questions, we will create some useful data structures and functions.\n",
    "\n",
    "First, we can load the necessary pieces of information into its own dictionary (I used a defaultdict). I extracted the \"column_names\" and \"data\" fields from the original dictionary."
   ]
  },
  {
   "cell_type": "code",
   "execution_count": 7,
   "metadata": {},
   "outputs": [],
   "source": [
    "stock_data = defaultdict(list)\n",
    "for i, k in enumerate(json_data['dataset']['column_names'][:11]):\n",
    "    stock_data[k].append([entry[i] for entry in json_data['dataset']['data']])\n",
    "\n",
    "#For some reason, our dictionary values are in a nested list instead of a single list, so let's take care of that:\n",
    "for key in stock_data.keys():\n",
    "    stock_data[key] = stock_data[key][0]"
   ]
  },
  {
   "cell_type": "markdown",
   "metadata": {},
   "source": [
    "Next, we will define some helpful functions below:"
   ]
  },
  {
   "cell_type": "code",
   "execution_count": 8,
   "metadata": {},
   "outputs": [],
   "source": [
    "def get_max(l):\n",
    "    \"\"\"\n",
    "    Returns maximum value of list while ignoring None values\n",
    "    \"\"\"\n",
    "    return max([i for i in l if i is not None])\n",
    "\n",
    "def get_min(l):\n",
    "    \"\"\"\n",
    "    Returns minimum value of list while ignoring None values\n",
    "    \"\"\"\n",
    "    return min([i for i in l if i is not None])\n",
    "\n",
    "def rounded(x):\n",
    "    \"\"\"\n",
    "    Rounds input to two decimal places\n",
    "    \"\"\"\n",
    "    return float(\"{:.2f}\".format(x))"
   ]
  },
  {
   "cell_type": "markdown",
   "metadata": {},
   "source": [
    "Now we can continue with the exercises.\n",
    "\n",
    "### 3. Calculate the highest and lowest opening prices"
   ]
  },
  {
   "cell_type": "code",
   "execution_count": 9,
   "metadata": {},
   "outputs": [
    {
     "name": "stdout",
     "output_type": "stream",
     "text": [
      "The highest opening price is: 53.11\n",
      "The lowest opening price is: 34.0\n"
     ]
    }
   ],
   "source": [
    "print('The highest opening price is:', rounded(get_max(stock_data['Open'])))\n",
    "\n",
    "print('The lowest opening price is:', rounded(get_min(stock_data['Open'])))"
   ]
  },
  {
   "cell_type": "markdown",
   "metadata": {},
   "source": [
    "### 4. Calculate the largest change in any one day\n",
    "\n",
    "We will ignore any days where either the \"High\" or \"Low\" value is None."
   ]
  },
  {
   "cell_type": "code",
   "execution_count": 10,
   "metadata": {},
   "outputs": [
    {
     "name": "stdout",
     "output_type": "stream",
     "text": [
      "The largest daily change is: 2.81\n"
     ]
    }
   ],
   "source": [
    "daily_changes = []\n",
    "for i, val in enumerate(stock_data['High']):\n",
    "    if val is not None and stock_data['Low'][i] is not None:\n",
    "        daily_changes.append(val - stock_data['Low'][i])\n",
    "    else:\n",
    "        continue\n",
    "\n",
    "print('The largest daily change is:', rounded(max(daily_changes)))"
   ]
  },
  {
   "cell_type": "markdown",
   "metadata": {},
   "source": [
    "### 5. Calculate the largest change between any two days\n",
    "\n",
    "Again, we will ignore entries with None values."
   ]
  },
  {
   "cell_type": "code",
   "execution_count": 11,
   "metadata": {},
   "outputs": [
    {
     "name": "stdout",
     "output_type": "stream",
     "text": [
      "The largest change between any two days is: 19.03\n"
     ]
    }
   ],
   "source": [
    "closing_price_changes = []\n",
    "for i, val in enumerate(stock_data['Close']):\n",
    "    if val is not None:\n",
    "        for j, val2 in enumerate(stock_data['Close']):\n",
    "            if val2 is not None:\n",
    "                closing_price_changes.append(abs(val - val2))\n",
    "            else:\n",
    "                continue\n",
    "    else:\n",
    "        continue\n",
    "print('The largest change between any two days is:', rounded(get_max(closing_price_changes)))"
   ]
  },
  {
   "cell_type": "markdown",
   "metadata": {},
   "source": [
    "### 6. Calculate the average daily trading volume\n",
    "\n",
    "Thankfully, the \"Traded Volume\" field did not have any None values, so calculating the average is straightforward."
   ]
  },
  {
   "cell_type": "code",
   "execution_count": 12,
   "metadata": {},
   "outputs": [
    {
     "name": "stdout",
     "output_type": "stream",
     "text": [
      "The average daily trading volume for 2017 is: 89124.34\n"
     ]
    }
   ],
   "source": [
    "print('The average daily trading volume for 2017 is:', \n",
    "      rounded(sum(stock_data['Traded Volume']) / len(stock_data['Traded Volume'])))"
   ]
  },
  {
   "cell_type": "markdown",
   "metadata": {},
   "source": [
    "### 7. (Optional) Calculate the median daily trading volume\n",
    "\n",
    "We will need to calculate the index of the median value by dividing the length of the \"Traded Volume\" list in half and rounding up to the nearest integer (i.e. taking the ceiling)."
   ]
  },
  {
   "cell_type": "code",
   "execution_count": 13,
   "metadata": {},
   "outputs": [
    {
     "name": "stdout",
     "output_type": "stream",
     "text": [
      "The median trading volume for 2017 is: 117165.0\n"
     ]
    }
   ],
   "source": [
    "import math\n",
    "median_index = int(math.ceil(len(stock_data['Traded Volume'])/2))\n",
    "print('The median trading volume for 2017 is:', stock_data['Traded Volume'][median_index])"
   ]
  }
 ],
 "metadata": {
  "kernelspec": {
   "display_name": "Python 3",
   "language": "python",
   "name": "python3"
  },
  "language_info": {
   "codemirror_mode": {
    "name": "ipython",
    "version": 3
   },
   "file_extension": ".py",
   "mimetype": "text/x-python",
   "name": "python",
   "nbconvert_exporter": "python",
   "pygments_lexer": "ipython3",
   "version": "3.7.3"
  }
 },
 "nbformat": 4,
 "nbformat_minor": 2
}
