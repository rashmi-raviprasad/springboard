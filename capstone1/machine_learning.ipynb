{
 "cells": [
  {
   "cell_type": "code",
   "execution_count": 1,
   "metadata": {},
   "outputs": [],
   "source": [
    "import numpy as np\n",
    "import pandas as pd\n",
    "import matplotlib.pyplot as plt\n",
    "import seaborn as sns\n",
    "sns.set()"
   ]
  },
  {
   "cell_type": "code",
   "execution_count": 2,
   "metadata": {},
   "outputs": [],
   "source": [
    "URL = 'http://vfacstaff.ltu.edu/lshamir/data/assym/p_all_full.csv'\n",
    "df = pd.read_csv(URL)"
   ]
  },
  {
   "cell_type": "code",
   "execution_count": 3,
   "metadata": {},
   "outputs": [
    {
     "data": {
      "text/html": [
       "<div>\n",
       "<style scoped>\n",
       "    .dataframe tbody tr th:only-of-type {\n",
       "        vertical-align: middle;\n",
       "    }\n",
       "\n",
       "    .dataframe tbody tr th {\n",
       "        vertical-align: top;\n",
       "    }\n",
       "\n",
       "    .dataframe thead th {\n",
       "        text-align: right;\n",
       "    }\n",
       "</style>\n",
       "<table border=\"1\" class=\"dataframe\">\n",
       "  <thead>\n",
       "    <tr style=\"text-align: right;\">\n",
       "      <th></th>\n",
       "      <th>rotation</th>\n",
       "      <th>skyVersion</th>\n",
       "      <th>run</th>\n",
       "      <th>rerun</th>\n",
       "      <th>camcol</th>\n",
       "      <th>field</th>\n",
       "      <th>obj</th>\n",
       "      <th>mode</th>\n",
       "      <th>nChild</th>\n",
       "      <th>type</th>\n",
       "      <th>...</th>\n",
       "      <th>err_g</th>\n",
       "      <th>err_r</th>\n",
       "      <th>err_i</th>\n",
       "      <th>err_z</th>\n",
       "      <th>dered_u</th>\n",
       "      <th>dered_g</th>\n",
       "      <th>dered_r</th>\n",
       "      <th>dered_i</th>\n",
       "      <th>dered_z</th>\n",
       "      <th>ID</th>\n",
       "    </tr>\n",
       "  </thead>\n",
       "  <tbody>\n",
       "    <tr>\n",
       "      <th>0</th>\n",
       "      <td>cw</td>\n",
       "      <td>1</td>\n",
       "      <td>752</td>\n",
       "      <td>40</td>\n",
       "      <td>1</td>\n",
       "      <td>291</td>\n",
       "      <td>119</td>\n",
       "      <td>1</td>\n",
       "      <td>0</td>\n",
       "      <td>3</td>\n",
       "      <td>...</td>\n",
       "      <td>0.005926</td>\n",
       "      <td>0.004446</td>\n",
       "      <td>0.004569</td>\n",
       "      <td>0.009970</td>\n",
       "      <td>18.60137</td>\n",
       "      <td>17.13143</td>\n",
       "      <td>16.45884</td>\n",
       "      <td>16.06030</td>\n",
       "      <td>15.76996</td>\n",
       "      <td>5.877230e+17</td>\n",
       "    </tr>\n",
       "    <tr>\n",
       "      <th>1</th>\n",
       "      <td>cw</td>\n",
       "      <td>1</td>\n",
       "      <td>752</td>\n",
       "      <td>40</td>\n",
       "      <td>1</td>\n",
       "      <td>291</td>\n",
       "      <td>134</td>\n",
       "      <td>1</td>\n",
       "      <td>0</td>\n",
       "      <td>3</td>\n",
       "      <td>...</td>\n",
       "      <td>0.005862</td>\n",
       "      <td>0.004395</td>\n",
       "      <td>0.004747</td>\n",
       "      <td>0.011440</td>\n",
       "      <td>18.03492</td>\n",
       "      <td>16.63229</td>\n",
       "      <td>15.99084</td>\n",
       "      <td>15.63922</td>\n",
       "      <td>15.40951</td>\n",
       "      <td>5.877230e+17</td>\n",
       "    </tr>\n",
       "    <tr>\n",
       "      <th>2</th>\n",
       "      <td>cw</td>\n",
       "      <td>1</td>\n",
       "      <td>752</td>\n",
       "      <td>40</td>\n",
       "      <td>1</td>\n",
       "      <td>374</td>\n",
       "      <td>223</td>\n",
       "      <td>1</td>\n",
       "      <td>0</td>\n",
       "      <td>3</td>\n",
       "      <td>...</td>\n",
       "      <td>0.005829</td>\n",
       "      <td>0.004081</td>\n",
       "      <td>0.004171</td>\n",
       "      <td>0.008847</td>\n",
       "      <td>18.57268</td>\n",
       "      <td>16.85044</td>\n",
       "      <td>16.02355</td>\n",
       "      <td>15.61145</td>\n",
       "      <td>15.32934</td>\n",
       "      <td>5.877230e+17</td>\n",
       "    </tr>\n",
       "    <tr>\n",
       "      <th>3</th>\n",
       "      <td>cw</td>\n",
       "      <td>1</td>\n",
       "      <td>752</td>\n",
       "      <td>40</td>\n",
       "      <td>1</td>\n",
       "      <td>432</td>\n",
       "      <td>76</td>\n",
       "      <td>1</td>\n",
       "      <td>0</td>\n",
       "      <td>3</td>\n",
       "      <td>...</td>\n",
       "      <td>0.003128</td>\n",
       "      <td>0.002311</td>\n",
       "      <td>0.002338</td>\n",
       "      <td>0.004747</td>\n",
       "      <td>16.62413</td>\n",
       "      <td>14.18520</td>\n",
       "      <td>13.34708</td>\n",
       "      <td>12.94853</td>\n",
       "      <td>12.84005</td>\n",
       "      <td>5.877230e+17</td>\n",
       "    </tr>\n",
       "    <tr>\n",
       "      <th>4</th>\n",
       "      <td>cw</td>\n",
       "      <td>1</td>\n",
       "      <td>752</td>\n",
       "      <td>40</td>\n",
       "      <td>2</td>\n",
       "      <td>273</td>\n",
       "      <td>107</td>\n",
       "      <td>1</td>\n",
       "      <td>0</td>\n",
       "      <td>3</td>\n",
       "      <td>...</td>\n",
       "      <td>0.003688</td>\n",
       "      <td>0.003099</td>\n",
       "      <td>0.003122</td>\n",
       "      <td>0.006709</td>\n",
       "      <td>17.58631</td>\n",
       "      <td>16.05905</td>\n",
       "      <td>15.35559</td>\n",
       "      <td>14.97545</td>\n",
       "      <td>14.74160</td>\n",
       "      <td>5.877230e+17</td>\n",
       "    </tr>\n",
       "  </tbody>\n",
       "</table>\n",
       "<p>5 rows × 455 columns</p>\n",
       "</div>"
      ],
      "text/plain": [
       "  rotation  skyVersion  run  rerun  camcol  field  obj  mode  nChild  type  \\\n",
       "0       cw           1  752     40       1    291  119     1       0     3   \n",
       "1       cw           1  752     40       1    291  134     1       0     3   \n",
       "2       cw           1  752     40       1    374  223     1       0     3   \n",
       "3       cw           1  752     40       1    432   76     1       0     3   \n",
       "4       cw           1  752     40       2    273  107     1       0     3   \n",
       "\n",
       "   ...     err_g     err_r     err_i     err_z   dered_u   dered_g   dered_r  \\\n",
       "0  ...  0.005926  0.004446  0.004569  0.009970  18.60137  17.13143  16.45884   \n",
       "1  ...  0.005862  0.004395  0.004747  0.011440  18.03492  16.63229  15.99084   \n",
       "2  ...  0.005829  0.004081  0.004171  0.008847  18.57268  16.85044  16.02355   \n",
       "3  ...  0.003128  0.002311  0.002338  0.004747  16.62413  14.18520  13.34708   \n",
       "4  ...  0.003688  0.003099  0.003122  0.006709  17.58631  16.05905  15.35559   \n",
       "\n",
       "    dered_i   dered_z            ID  \n",
       "0  16.06030  15.76996  5.877230e+17  \n",
       "1  15.63922  15.40951  5.877230e+17  \n",
       "2  15.61145  15.32934  5.877230e+17  \n",
       "3  12.94853  12.84005  5.877230e+17  \n",
       "4  14.97545  14.74160  5.877230e+17  \n",
       "\n",
       "[5 rows x 455 columns]"
      ]
     },
     "execution_count": 3,
     "metadata": {},
     "output_type": "execute_result"
    }
   ],
   "source": [
    "df.head()"
   ]
  },
  {
   "cell_type": "code",
   "execution_count": 25,
   "metadata": {},
   "outputs": [],
   "source": [
    "from sklearn.model_selection import train_test_split, cross_validate\n",
    "from sklearn.linear_model import LogisticRegression, LogisticRegressionCV"
   ]
  },
  {
   "cell_type": "code",
   "execution_count": 7,
   "metadata": {},
   "outputs": [],
   "source": [
    "X_train, X_test, y_train, y_test = train_test_split(df.drop('rotation', axis=1), df['rotation'], random_state=42, stratify=df['rotation'])"
   ]
  },
  {
   "cell_type": "code",
   "execution_count": 27,
   "metadata": {},
   "outputs": [
    {
     "name": "stderr",
     "output_type": "stream",
     "text": [
      "/home/rashmi/anaconda3/lib/python3.7/site-packages/sklearn/linear_model/logistic.py:433: FutureWarning: Default solver will be changed to 'lbfgs' in 0.22. Specify a solver to silence this warning.\n",
      "  FutureWarning)\n"
     ]
    },
    {
     "data": {
      "text/plain": [
       "0.513095238095238"
      ]
     },
     "execution_count": 27,
     "metadata": {},
     "output_type": "execute_result"
    }
   ],
   "source": [
    "model = LogisticRegression()\n",
    "model.fit(X_train, y_train)\n",
    "model.score(X_test, y_test)"
   ]
  },
  {
   "cell_type": "code",
   "execution_count": 28,
   "metadata": {},
   "outputs": [
    {
     "name": "stderr",
     "output_type": "stream",
     "text": [
      "/home/rashmi/anaconda3/lib/python3.7/site-packages/sklearn/linear_model/logistic.py:758: ConvergenceWarning: lbfgs failed to converge. Increase the number of iterations.\n",
      "  \"of iterations.\", ConvergenceWarning)\n"
     ]
    },
    {
     "data": {
      "text/plain": [
       "0.5125"
      ]
     },
     "execution_count": 28,
     "metadata": {},
     "output_type": "execute_result"
    }
   ],
   "source": [
    "cv_mod = LogisticRegressionCV(cv=5, random_state=42).fit(X_train, y_train)\n",
    "cv_mod.score(X_test, y_test)"
   ]
  },
  {
   "cell_type": "code",
   "execution_count": 32,
   "metadata": {},
   "outputs": [
    {
     "data": {
      "text/plain": [
       "0.516468253968254"
      ]
     },
     "execution_count": 32,
     "metadata": {},
     "output_type": "execute_result"
    }
   ],
   "source": [
    "model.score(X_train, y_train)"
   ]
  },
  {
   "cell_type": "code",
   "execution_count": null,
   "metadata": {},
   "outputs": [],
   "source": []
  },
  {
   "cell_type": "code",
   "execution_count": null,
   "metadata": {},
   "outputs": [],
   "source": []
  },
  {
   "cell_type": "code",
   "execution_count": null,
   "metadata": {},
   "outputs": [],
   "source": []
  },
  {
   "cell_type": "code",
   "execution_count": null,
   "metadata": {},
   "outputs": [],
   "source": []
  },
  {
   "cell_type": "code",
   "execution_count": null,
   "metadata": {},
   "outputs": [],
   "source": []
  },
  {
   "cell_type": "code",
   "execution_count": null,
   "metadata": {},
   "outputs": [],
   "source": []
  },
  {
   "cell_type": "code",
   "execution_count": null,
   "metadata": {},
   "outputs": [],
   "source": []
  },
  {
   "cell_type": "code",
   "execution_count": null,
   "metadata": {},
   "outputs": [],
   "source": []
  }
 ],
 "metadata": {
  "kernelspec": {
   "display_name": "Python 3",
   "language": "python",
   "name": "python3"
  },
  "language_info": {
   "codemirror_mode": {
    "name": "ipython",
    "version": 3
   },
   "file_extension": ".py",
   "mimetype": "text/x-python",
   "name": "python",
   "nbconvert_exporter": "python",
   "pygments_lexer": "ipython3",
   "version": "3.7.3"
  }
 },
 "nbformat": 4,
 "nbformat_minor": 2
}
