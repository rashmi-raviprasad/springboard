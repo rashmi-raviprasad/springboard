{
 "cells": [
  {
   "cell_type": "code",
   "execution_count": 16,
   "metadata": {},
   "outputs": [],
   "source": [
    "import numpy as np\n",
    "import pandas as pd\n",
    "import matplotlib.pyplot as plt\n",
    "import seaborn as sns\n",
    "np.random.seed(42)\n",
    "sns.set()"
   ]
  },
  {
   "cell_type": "code",
   "execution_count": 2,
   "metadata": {},
   "outputs": [],
   "source": [
    "URL = 'http://vfacstaff.ltu.edu/lshamir/data/assym/p_all_full.csv'\n",
    "df = pd.read_csv(URL)"
   ]
  },
  {
   "cell_type": "code",
   "execution_count": 3,
   "metadata": {
    "scrolled": true
   },
   "outputs": [
    {
     "name": "stdout",
     "output_type": "stream",
     "text": [
      "<class 'pandas.core.frame.DataFrame'>\n",
      "RangeIndex: 13440 entries, 0 to 13439\n",
      "Columns: 455 entries, rotation to ID\n",
      "dtypes: float64(383), int64(71), object(1)\n",
      "memory usage: 46.7+ MB\n"
     ]
    }
   ],
   "source": [
    "df.info()"
   ]
  },
  {
   "cell_type": "code",
   "execution_count": 4,
   "metadata": {},
   "outputs": [
    {
     "name": "stdout",
     "output_type": "stream",
     "text": [
      "<class 'pandas.core.frame.DataFrame'>\n",
      "Int64Index: 12952 entries, 0 to 13439\n",
      "Columns: 455 entries, rotation to ID\n",
      "dtypes: float64(408), int64(46), object(1)\n",
      "memory usage: 45.1+ MB\n"
     ]
    }
   ],
   "source": [
    "df.replace(-9999.00, np.nan, inplace=True)\n",
    "df_dropped = df.dropna()\n",
    "df_dropped.info()"
   ]
  },
  {
   "cell_type": "code",
   "execution_count": 5,
   "metadata": {},
   "outputs": [],
   "source": [
    "from sklearn.model_selection import train_test_split, cross_validate, GridSearchCV\n",
    "from sklearn.linear_model import LogisticRegression\n",
    "from sklearn.metrics import roc_curve, auc"
   ]
  },
  {
   "cell_type": "code",
   "execution_count": 6,
   "metadata": {},
   "outputs": [],
   "source": [
    "X_train, X_test, y_train, y_test = train_test_split(df_dropped.drop('rotation', axis=1), df_dropped['rotation'], \n",
    "                                                    random_state=42, stratify=df_dropped['rotation'])"
   ]
  },
  {
   "cell_type": "code",
   "execution_count": 7,
   "metadata": {},
   "outputs": [
    {
     "data": {
      "text/plain": [
       "0.5176034589252625"
      ]
     },
     "execution_count": 7,
     "metadata": {},
     "output_type": "execute_result"
    }
   ],
   "source": [
    "model = LogisticRegression(solver='liblinear')\n",
    "model.fit(X_train, y_train)\n",
    "model.score(X_test, y_test)"
   ]
  },
  {
   "cell_type": "code",
   "execution_count": 8,
   "metadata": {},
   "outputs": [
    {
     "data": {
      "text/plain": [
       "{'C': 0.001}"
      ]
     },
     "execution_count": 8,
     "metadata": {},
     "output_type": "execute_result"
    }
   ],
   "source": [
    "cv_model = GridSearchCV(LogisticRegression(solver='liblinear'), param_grid={'C':[0.0001, 0.001, 0.01, 0.1, 1, 10, 100]}, cv=5)\n",
    "cv_model.fit(X_train, y_train)\n",
    "cv_model.best_params_"
   ]
  },
  {
   "cell_type": "code",
   "execution_count": 9,
   "metadata": {
    "scrolled": true
   },
   "outputs": [
    {
     "data": {
      "text/plain": [
       "0.5176034589252625"
      ]
     },
     "execution_count": 9,
     "metadata": {},
     "output_type": "execute_result"
    }
   ],
   "source": [
    "cv_model.score(X_test, y_test)"
   ]
  },
  {
   "cell_type": "code",
   "execution_count": 10,
   "metadata": {
    "scrolled": true
   },
   "outputs": [
    {
     "data": {
      "text/plain": [
       "0.5184270125591929"
      ]
     },
     "execution_count": 10,
     "metadata": {},
     "output_type": "execute_result"
    }
   ],
   "source": [
    "cv_model.score(X_train, y_train)"
   ]
  },
  {
   "cell_type": "code",
   "execution_count": 11,
   "metadata": {},
   "outputs": [],
   "source": [
    "probs = cv_model.predict_proba(X_test)\n",
    "probs = probs[:, 1]\n",
    "no_skill = np.zeros(len(y_test))"
   ]
  },
  {
   "cell_type": "code",
   "execution_count": 12,
   "metadata": {},
   "outputs": [],
   "source": [
    "tpr, fpr, thresh = roc_curve(y_test, probs, pos_label='cw')\n",
    "ns_tpr, ns_fpr, ns_thresh = roc_curve(y_test, no_skill, pos_label='cw')"
   ]
  },
  {
   "cell_type": "code",
   "execution_count": 14,
   "metadata": {},
   "outputs": [
    {
     "data": {
      "image/png": "[encoded data removed]",
      "text/plain": [
       "<Figure size 432x288 with 1 Axes>"
      ]
     },
     "metadata": {
      "needs_background": "light"
     },
     "output_type": "display_data"
    }
   ],
   "source": [
    "plt.plot(ns_fpr, ns_tpr, linestyle='--', label='No Skill, AUC = %.2f' % auc(ns_fpr, ns_tpr))\n",
    "plt.plot(fpr, tpr, marker='.', markersize=0.1, label='Logistic, AUC = %.2f' % auc(fpr, tpr))\n",
    "plt.xlabel('False Positive Rate')\n",
    "plt.ylabel('True Positive Rate')\n",
    "plt.legend()\n",
    "plt.show()"
   ]
  },
  {
   "cell_type": "code",
   "execution_count": 17,
   "metadata": {},
   "outputs": [
    {
     "name": "stdout",
     "output_type": "stream",
     "text": [
      "[(5, 0.5179122915379865), (10, 0.5169857936998147), (20, 0.5169857936998147), (30, 0.5169857936998147), (40, 0.5169857936998147), (50, 0.5169857936998147)]\n"
     ]
    }
   ],
   "source": [
    "from sklearn.feature_selection import RFE\n",
    "feature_nums = [5, 10, 20, 30, 40, 50]\n",
    "feature_results = []\n",
    "\n",
    "for num in feature_nums:\n",
    "    rfe_model = RFE(LogisticRegression(C=0.001, solver='lbfgs'), n_features_to_select=num).fit(X_train, y_train)\n",
    "    feature_results.append((num, rfe_model.score(X_test, y_test)))\n",
    "\n",
    "print(feature_results)"
   ]
  },
  {
   "cell_type": "code",
   "execution_count": 18,
   "metadata": {},
   "outputs": [
    {
     "data": {
      "text/plain": [
       "array([427,  32, 186, 343, 259,  62, 426, 440, 416, 439, 449, 260,   1,\n",
       "        50, 356,  38, 347, 422, 390, 376, 399,  45,  52,  49,  55,  54,\n",
       "       251, 353, 357, 318, 332,  42,  48,  37,  40,  43, 295, 367, 346,\n",
       "       324, 385, 436, 438, 434, 430, 429, 435, 437, 431, 433, 432, 188,\n",
       "       187, 193, 192, 189, 386, 322, 331, 309, 310, 185, 183, 180, 179,\n",
       "       175, 392, 410, 378, 337, 352, 161, 159, 157, 150, 140, 202, 375,\n",
       "       330, 326, 348, 194, 190, 320, 134, 118,  31, 125,  58, 151, 115,\n",
       "       191, 164, 155, 141, 135, 109,  63, 102,  94, 124, 148, 162, 142,\n",
       "       133, 130,  59, 108,  76,  61,  64, 300, 296, 293, 298, 297, 338,\n",
       "       425, 369, 355, 395, 299, 292, 291, 288, 285, 342, 424, 373, 358,\n",
       "       398, 272, 268, 266, 270, 262, 254, 252, 250, 249, 207, 112,  89,\n",
       "       145, 119,  82, 116,  87, 147, 121,  83, 113,  88, 146, 120,  81,\n",
       "        35,  29,  30,  33,  34,  97,  90, 153, 123,  84, 261, 255, 257,\n",
       "       258, 265, 315, 319, 394, 374, 382, 340, 333, 325, 335, 305, 328,\n",
       "       391, 195, 248, 198, 368, 366, 321, 362, 350,  46,  53,  51,  56,\n",
       "        57, 222, 224, 226, 228, 230, 329, 388, 370, 327, 267,  41,  47,\n",
       "        36,  39,  44, 241, 243, 213, 240, 223, 313, 341, 365, 379, 278,\n",
       "        85,  79,  74,  72,  73, 218, 219, 220, 236, 237,  92, 103, 104,\n",
       "       100,  95, 242, 239, 235, 221, 233, 196, 247, 206, 209, 105, 163,\n",
       "       245, 276, 302, 131, 117,  98,  75,  71,  86, 232, 231, 229, 227,\n",
       "       225,  70, 110, 101, 114,  96, 158, 208, 149, 128, 106, 132, 275,\n",
       "       304, 280, 263, 269, 294, 289, 286, 282, 336, 428, 412, 402, 360,\n",
       "       264,  69,  80,  91,  68, 214, 212, 217, 234, 215, 154, 171, 160,\n",
       "       152, 137, 354, 405, 423, 409, 384, 127, 138, 129, 126, 122, 246,\n",
       "       323, 359, 413, 372, 273, 284, 290, 283, 281, 316, 393, 401, 397,\n",
       "       361,  65,  77,  66,  67,  78, 216, 211, 210, 238, 244, 143, 156,\n",
       "       144, 139, 136, 349, 400, 419, 406, 377, 169, 182, 177, 172, 166,\n",
       "       345, 403, 420, 407, 381,  60,  22,  16,  20,  28,  17,  11,  10,\n",
       "         9,  12,  27,  19,  21,  18,  23,  26,  14,  13,  15,  24, 204,\n",
       "       203, 197, 201, 199,   1,   1,   1,   1,   2, 334, 417, 414, 418,\n",
       "       415, 363, 443, 446, 445, 444, 205, 111, 107, 317, 271, 306, 387,\n",
       "       411, 351, 200,  99, 279, 301, 447, 303, 339, 307, 308, 442, 287,\n",
       "       314,   8, 441, 450, 448, 364, 371, 383, 389, 396,  25, 277, 312,\n",
       "       256, 274, 253, 311,  93,   7,   6,   4,   3, 168, 181, 176, 173,\n",
       "       165, 344, 404, 421, 408, 380, 170, 184, 178, 174, 167,   5])"
      ]
     },
     "execution_count": 18,
     "metadata": {},
     "output_type": "execute_result"
    }
   ],
   "source": [
    "rfe_model = RFE(LogisticRegression(C=0.001, solver='lbfgs'), n_features_to_select=5).fit(X_train, y_train)\n",
    "rfe_model.ranking_"
   ]
  },
  {
   "cell_type": "code",
   "execution_count": 30,
   "metadata": {},
   "outputs": [
    {
     "data": {
      "text/plain": [
       "['flags', 'flags_u', 'flags_g', 'flags_r', 'flags_i', 'rotation']"
      ]
     },
     "execution_count": 30,
     "metadata": {},
     "output_type": "execute_result"
    }
   ],
   "source": [
    "sig_features = []\n",
    "for i, feat_rank in enumerate(rfe_model.ranking_):\n",
    "    if feat_rank == 1:\n",
    "        sig_features.append(X_train.columns[i])\n",
    "    else:\n",
    "        continue\n",
    "sig_features.append('rotation')\n",
    "sig_features"
   ]
  },
  {
   "cell_type": "code",
   "execution_count": 31,
   "metadata": {},
   "outputs": [],
   "source": [
    "#sig_features = sig_features.append('rotation')\n",
    "sig_df = df_dropped[sig_features]\n",
    "X_train, X_test, y_train, y_test = train_test_split(sig_df.drop('rotation', axis=1), sig_df['rotation'], \n",
    "                                                   random_state=42, stratify=sig_df['rotation'])"
   ]
  },
  {
   "cell_type": "code",
   "execution_count": 32,
   "metadata": {},
   "outputs": [],
   "source": [
    "#scales at least quadratically with num of samples; considering using svm.linearSVC instead\n",
    "#from sklearn.svm import SVC\n",
    "#svm_mod = SVC()"
   ]
  },
  {
   "cell_type": "code",
   "execution_count": null,
   "metadata": {},
   "outputs": [],
   "source": []
  },
  {
   "cell_type": "code",
   "execution_count": null,
   "metadata": {},
   "outputs": [],
   "source": []
  },
  {
   "cell_type": "code",
   "execution_count": null,
   "metadata": {},
   "outputs": [],
   "source": []
  },
  {
   "cell_type": "code",
   "execution_count": null,
   "metadata": {},
   "outputs": [],
   "source": []
  },
  {
   "cell_type": "code",
   "execution_count": null,
   "metadata": {},
   "outputs": [],
   "source": []
  },
  {
   "cell_type": "code",
   "execution_count": null,
   "metadata": {},
   "outputs": [],
   "source": []
  },
  {
   "cell_type": "code",
   "execution_count": null,
   "metadata": {},
   "outputs": [],
   "source": []
  },
  {
   "cell_type": "code",
   "execution_count": null,
   "metadata": {},
   "outputs": [],
   "source": []
  },
  {
   "cell_type": "code",
   "execution_count": null,
   "metadata": {},
   "outputs": [],
   "source": []
  },
  {
   "cell_type": "code",
   "execution_count": null,
   "metadata": {},
   "outputs": [],
   "source": []
  },
  {
   "cell_type": "code",
   "execution_count": null,
   "metadata": {},
   "outputs": [],
   "source": []
  }
 ],
 "metadata": {
  "kernelspec": {
   "display_name": "Python 3",
   "language": "python",
   "name": "python3"
  },
  "language_info": {
   "codemirror_mode": {
    "name": "ipython",
    "version": 3
   },
   "file_extension": ".py",
   "mimetype": "text/x-python",
   "name": "python",
   "nbconvert_exporter": "python",
   "pygments_lexer": "ipython3",
   "version": "3.7.3"
  }
 },
 "nbformat": 4,
 "nbformat_minor": 2
}
