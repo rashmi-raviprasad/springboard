{
 "cells": [
  {
   "cell_type": "code",
   "execution_count": 1,
   "metadata": {},
   "outputs": [],
   "source": [
    "import numpy as np\n",
    "import pandas as pd\n",
    "import matplotlib.pyplot as plt\n",
    "import seaborn as sns\n",
    "np.random.seed(42)\n",
    "sns.set()"
   ]
  },
  {
   "cell_type": "code",
   "execution_count": 2,
   "metadata": {},
   "outputs": [],
   "source": [
    "URL = 'http://vfacstaff.ltu.edu/lshamir/data/assym/p_all_full.csv'\n",
    "df = pd.read_csv(URL)"
   ]
  },
  {
   "cell_type": "code",
   "execution_count": 3,
   "metadata": {
    "scrolled": true
   },
   "outputs": [
    {
     "name": "stdout",
     "output_type": "stream",
     "text": [
      "<class 'pandas.core.frame.DataFrame'>\n",
      "RangeIndex: 13440 entries, 0 to 13439\n",
      "Columns: 455 entries, rotation to ID\n",
      "dtypes: float64(383), int64(71), object(1)\n",
      "memory usage: 46.7+ MB\n"
     ]
    }
   ],
   "source": [
    "df.info()"
   ]
  },
  {
   "cell_type": "markdown",
   "metadata": {},
   "source": [
    "I decided to drop NaN entries instead of imputing values. We only lost 3.6% of our overall data."
   ]
  },
  {
   "cell_type": "code",
   "execution_count": 4,
   "metadata": {},
   "outputs": [
    {
     "name": "stdout",
     "output_type": "stream",
     "text": [
      "<class 'pandas.core.frame.DataFrame'>\n",
      "Int64Index: 12952 entries, 0 to 13439\n",
      "Columns: 455 entries, rotation to ID\n",
      "dtypes: float64(408), int64(46), object(1)\n",
      "memory usage: 45.1+ MB\n"
     ]
    }
   ],
   "source": [
    "df.replace(-9999.00, np.nan, inplace=True)\n",
    "df_dropped = df.dropna()\n",
    "df_dropped.info()"
   ]
  },
  {
   "cell_type": "code",
   "execution_count": 5,
   "metadata": {},
   "outputs": [],
   "source": [
    "from sklearn.model_selection import train_test_split, cross_validate, GridSearchCV\n",
    "from sklearn.linear_model import LogisticRegression\n",
    "from sklearn.metrics import roc_curve, auc"
   ]
  },
  {
   "cell_type": "code",
   "execution_count": 6,
   "metadata": {},
   "outputs": [],
   "source": [
    "X_train, X_test, y_train, y_test = train_test_split(df_dropped.drop('rotation', axis=1), df_dropped['rotation'], \n",
    "                                                    random_state=42, stratify=df_dropped['rotation'])"
   ]
  },
  {
   "cell_type": "markdown",
   "metadata": {},
   "source": [
    "First, we'll try logistic regression with the default parameters. Our score is 0.518, which is not great."
   ]
  },
  {
   "cell_type": "code",
   "execution_count": 7,
   "metadata": {},
   "outputs": [
    {
     "data": {
      "text/plain": [
       "0.5176034589252625"
      ]
     },
     "execution_count": 7,
     "metadata": {},
     "output_type": "execute_result"
    }
   ],
   "source": [
    "model = LogisticRegression(solver='liblinear')\n",
    "model.fit(X_train, y_train)\n",
    "model.score(X_test, y_test)"
   ]
  },
  {
   "cell_type": "markdown",
   "metadata": {},
   "source": [
    "Let's tune the hyperparameter C using grid search cross validation. We arrive at the best value for C (0.001)."
   ]
  },
  {
   "cell_type": "code",
   "execution_count": 8,
   "metadata": {},
   "outputs": [
    {
     "data": {
      "text/plain": [
       "{'C': 0.001}"
      ]
     },
     "execution_count": 8,
     "metadata": {},
     "output_type": "execute_result"
    }
   ],
   "source": [
    "cv_model = GridSearchCV(LogisticRegression(solver='liblinear'), param_grid={'C':[0.0001, 0.001, 0.01, 0.1, 1, 10, 100]}, cv=5)\n",
    "cv_model.fit(X_train, y_train)\n",
    "cv_model.best_params_"
   ]
  },
  {
   "cell_type": "markdown",
   "metadata": {},
   "source": [
    "Unfortunately, the cross validated model gave us the same score as the default model."
   ]
  },
  {
   "cell_type": "code",
   "execution_count": 9,
   "metadata": {
    "scrolled": true
   },
   "outputs": [
    {
     "data": {
      "text/plain": [
       "0.5176034589252625"
      ]
     },
     "execution_count": 9,
     "metadata": {},
     "output_type": "execute_result"
    }
   ],
   "source": [
    "cv_model.score(X_test, y_test)"
   ]
  },
  {
   "cell_type": "markdown",
   "metadata": {},
   "source": [
    "The score for the training dataset is marginally better but not by much."
   ]
  },
  {
   "cell_type": "code",
   "execution_count": 10,
   "metadata": {
    "scrolled": true
   },
   "outputs": [
    {
     "data": {
      "text/plain": [
       "0.5184270125591929"
      ]
     },
     "execution_count": 10,
     "metadata": {},
     "output_type": "execute_result"
    }
   ],
   "source": [
    "cv_model.score(X_train, y_train)"
   ]
  },
  {
   "cell_type": "markdown",
   "metadata": {},
   "source": [
    "We can plot the ROC curve. The AUC is 0.50, which is equivalent to a coin toss, so not great."
   ]
  },
  {
   "cell_type": "code",
   "execution_count": 11,
   "metadata": {},
   "outputs": [],
   "source": [
    "probs = cv_model.predict_proba(X_test)\n",
    "probs = probs[:, 1]\n",
    "no_skill = np.zeros(len(y_test))"
   ]
  },
  {
   "cell_type": "code",
   "execution_count": 12,
   "metadata": {},
   "outputs": [],
   "source": [
    "tpr, fpr, thresh = roc_curve(y_test, probs, pos_label='cw')\n",
    "ns_tpr, ns_fpr, ns_thresh = roc_curve(y_test, no_skill, pos_label='cw')"
   ]
  },
  {
   "cell_type": "code",
   "execution_count": 13,
   "metadata": {},
   "outputs": [
    {
     "data": {
      "image/png": "[encoded data removed]",
      "text/plain": [
       "<Figure size 432x288 with 1 Axes>"
      ]
     },
     "metadata": {
      "needs_background": "light"
     },
     "output_type": "display_data"
    }
   ],
   "source": [
    "plt.plot(ns_fpr, ns_tpr, linestyle='--', label='No Skill, AUC = %.2f' % auc(ns_fpr, ns_tpr))\n",
    "plt.plot(fpr, tpr, marker='.', markersize=0.1, label='Logistic, AUC = %.2f' % auc(fpr, tpr))\n",
    "plt.xlabel('False Positive Rate')\n",
    "plt.ylabel('True Positive Rate')\n",
    "plt.legend()\n",
    "plt.show()"
   ]
  },
  {
   "cell_type": "markdown",
   "metadata": {},
   "source": [
    "Ignore these commented cells, I tried doing some feature reduction but the score ended up being even worse! I decided to try another approach."
   ]
  },
  {
   "cell_type": "code",
   "execution_count": 14,
   "metadata": {},
   "outputs": [
    {
     "data": {
      "text/plain": [
       "\"from sklearn.feature_selection import RFE\\nfeature_nums = [5, 10, 20, 30, 40, 50]\\nfeature_results = []\\n\\nfor num in feature_nums:\\n    rfe_model = RFE(LogisticRegression(C=0.001, solver='lbfgs'), n_features_to_select=num).fit(X_train, y_train)\\n    feature_results.append((num, rfe_model.score(X_test, y_test)))\\n\\nprint(feature_results)\""
      ]
     },
     "execution_count": 14,
     "metadata": {},
     "output_type": "execute_result"
    }
   ],
   "source": [
    "'''from sklearn.feature_selection import RFE\n",
    "feature_nums = [5, 10, 20, 30, 40, 50]\n",
    "feature_results = []\n",
    "\n",
    "for num in feature_nums:\n",
    "    rfe_model = RFE(LogisticRegression(C=0.001, solver='lbfgs'), n_features_to_select=num).fit(X_train, y_train)\n",
    "    feature_results.append((num, rfe_model.score(X_test, y_test)))\n",
    "\n",
    "print(feature_results)'''"
   ]
  },
  {
   "cell_type": "code",
   "execution_count": 15,
   "metadata": {},
   "outputs": [
    {
     "data": {
      "text/plain": [
       "\"rfe_model = RFE(LogisticRegression(C=0.001, solver='lbfgs'), n_features_to_select=5).fit(X_train, y_train)\\nrfe_model.ranking_\""
      ]
     },
     "execution_count": 15,
     "metadata": {},
     "output_type": "execute_result"
    }
   ],
   "source": [
    "'''rfe_model = RFE(LogisticRegression(C=0.001, solver='lbfgs'), n_features_to_select=5).fit(X_train, y_train)\n",
    "rfe_model.ranking_'''"
   ]
  },
  {
   "cell_type": "code",
   "execution_count": 16,
   "metadata": {},
   "outputs": [
    {
     "data": {
      "text/plain": [
       "\"sig_features = []\\nfor i, feat_rank in enumerate(rfe_model.ranking_):\\n    if feat_rank == 1:\\n        sig_features.append(X_train.columns[i])\\n    else:\\n        continue\\nsig_features.append('rotation')\\nsig_features\""
      ]
     },
     "execution_count": 16,
     "metadata": {},
     "output_type": "execute_result"
    }
   ],
   "source": [
    "'''sig_features = []\n",
    "for i, feat_rank in enumerate(rfe_model.ranking_):\n",
    "    if feat_rank == 1:\n",
    "        sig_features.append(X_train.columns[i])\n",
    "    else:\n",
    "        continue\n",
    "sig_features.append('rotation')\n",
    "sig_features'''"
   ]
  },
  {
   "cell_type": "code",
   "execution_count": 17,
   "metadata": {},
   "outputs": [
    {
     "data": {
      "text/plain": [
       "\"#sig_features = sig_features.append('rotation')\\nsig_df = df_dropped[sig_features]\\nsig_X = sig_df.drop('rotation', axis=1)\\nsig_y = sig_df['rotation']\\n#X_train, X_test, y_train, y_test = train_test_split(sig_df.drop('rotation', axis=1), sig_df['rotation'], \\n#                                                   random_state=42, stratify=sig_df['rotation'])\\n\""
      ]
     },
     "execution_count": 17,
     "metadata": {},
     "output_type": "execute_result"
    }
   ],
   "source": [
    "'''#sig_features = sig_features.append('rotation')\n",
    "sig_df = df_dropped[sig_features]\n",
    "sig_X = sig_df.drop('rotation', axis=1)\n",
    "sig_y = sig_df['rotation']\n",
    "#X_train, X_test, y_train, y_test = train_test_split(sig_df.drop('rotation', axis=1), sig_df['rotation'], \n",
    "#                                                   random_state=42, stratify=sig_df['rotation'])\n",
    "'''"
   ]
  },
  {
   "cell_type": "markdown",
   "metadata": {},
   "source": [
    "My next model is a support vector machine. First, we will need to scale our features."
   ]
  },
  {
   "cell_type": "code",
   "execution_count": 18,
   "metadata": {},
   "outputs": [
    {
     "name": "stderr",
     "output_type": "stream",
     "text": [
      "/home/rashmi/anaconda3/lib/python3.7/site-packages/sklearn/preprocessing/data.py:645: DataConversionWarning: Data with input dtype int64, float64 were all converted to float64 by StandardScaler.\n",
      "  return self.partial_fit(X, y)\n",
      "/home/rashmi/anaconda3/lib/python3.7/site-packages/sklearn/base.py:464: DataConversionWarning: Data with input dtype int64, float64 were all converted to float64 by StandardScaler.\n",
      "  return self.fit(X, **fit_params).transform(X)\n"
     ]
    }
   ],
   "source": [
    "from sklearn.preprocessing import StandardScaler\n",
    "\n",
    "X_scaled = StandardScaler().fit_transform(df_dropped.drop('rotation', axis=1))\n",
    "X_train_scaled, X_test_scaled, y_train, y_test = train_test_split(X_scaled, df_dropped['rotation'], \n",
    "                                                                  random_state=42, stratify=df_dropped['rotation'])"
   ]
  },
  {
   "cell_type": "markdown",
   "metadata": {},
   "source": [
    "Our score (0.523) is a little better!"
   ]
  },
  {
   "cell_type": "code",
   "execution_count": 19,
   "metadata": {},
   "outputs": [
    {
     "name": "stderr",
     "output_type": "stream",
     "text": [
      "/home/rashmi/anaconda3/lib/python3.7/site-packages/sklearn/svm/base.py:931: ConvergenceWarning: Liblinear failed to converge, increase the number of iterations.\n",
      "  \"the number of iterations.\", ConvergenceWarning)\n"
     ]
    },
    {
     "data": {
      "text/plain": [
       "0.5231624459542927"
      ]
     },
     "execution_count": 19,
     "metadata": {},
     "output_type": "execute_result"
    }
   ],
   "source": [
    "from sklearn.svm import LinearSVC\n",
    "\n",
    "svm_model = LinearSVC(random_state=42).fit(X_train_scaled, y_train)\n",
    "svm_model.score(X_test_scaled, y_test)"
   ]
  },
  {
   "cell_type": "markdown",
   "metadata": {},
   "source": [
    "Plotting the ROC curve. Our AUC this time is 0.48. We are making progress, but in the opposite direction."
   ]
  },
  {
   "cell_type": "code",
   "execution_count": 20,
   "metadata": {},
   "outputs": [],
   "source": [
    "probs = svm_model.decision_function(X_test_scaled)\n",
    "no_skill = np.zeros(len(y_test))"
   ]
  },
  {
   "cell_type": "code",
   "execution_count": 21,
   "metadata": {},
   "outputs": [],
   "source": [
    "tpr, fpr, thresh = roc_curve(y_test, probs, pos_label='cw')\n",
    "ns_tpr, ns_fpr, ns_thresh = roc_curve(y_test, no_skill, pos_label='cw')"
   ]
  },
  {
   "cell_type": "code",
   "execution_count": 22,
   "metadata": {},
   "outputs": [
    {
     "data": {
      "image/png": "[encoded data removed]",
      "text/plain": [
       "<Figure size 432x288 with 1 Axes>"
      ]
     },
     "metadata": {
      "needs_background": "light"
     },
     "output_type": "display_data"
    }
   ],
   "source": [
    "plt.plot(ns_fpr, ns_tpr, linestyle='--', label='No Skill, AUC = %.2f' % auc(ns_fpr, ns_tpr))\n",
    "plt.plot(fpr, tpr, marker='.', markersize=0.1, label='Linear SVC, AUC = %.2f' % auc(fpr, tpr))\n",
    "plt.xlabel('False Positive Rate')\n",
    "plt.ylabel('True Positive Rate')\n",
    "plt.legend()\n",
    "plt.show()"
   ]
  },
  {
   "cell_type": "code",
   "execution_count": null,
   "metadata": {},
   "outputs": [],
   "source": []
  },
  {
   "cell_type": "code",
   "execution_count": null,
   "metadata": {},
   "outputs": [],
   "source": []
  },
  {
   "cell_type": "code",
   "execution_count": null,
   "metadata": {},
   "outputs": [],
   "source": []
  },
  {
   "cell_type": "code",
   "execution_count": null,
   "metadata": {},
   "outputs": [],
   "source": []
  },
  {
   "cell_type": "code",
   "execution_count": null,
   "metadata": {},
   "outputs": [],
   "source": []
  },
  {
   "cell_type": "code",
   "execution_count": null,
   "metadata": {},
   "outputs": [],
   "source": []
  },
  {
   "cell_type": "code",
   "execution_count": null,
   "metadata": {},
   "outputs": [],
   "source": []
  },
  {
   "cell_type": "code",
   "execution_count": null,
   "metadata": {},
   "outputs": [],
   "source": []
  },
  {
   "cell_type": "code",
   "execution_count": null,
   "metadata": {},
   "outputs": [],
   "source": []
  },
  {
   "cell_type": "code",
   "execution_count": null,
   "metadata": {},
   "outputs": [],
   "source": []
  },
  {
   "cell_type": "code",
   "execution_count": null,
   "metadata": {},
   "outputs": [],
   "source": []
  },
  {
   "cell_type": "code",
   "execution_count": null,
   "metadata": {},
   "outputs": [],
   "source": []
  },
  {
   "cell_type": "code",
   "execution_count": null,
   "metadata": {},
   "outputs": [],
   "source": []
  },
  {
   "cell_type": "code",
   "execution_count": null,
   "metadata": {},
   "outputs": [],
   "source": []
  }
 ],
 "metadata": {
  "kernelspec": {
   "display_name": "Python 3",
   "language": "python",
   "name": "python3"
  },
  "language_info": {
   "codemirror_mode": {
    "name": "ipython",
    "version": 3
   },
   "file_extension": ".py",
   "mimetype": "text/x-python",
   "name": "python",
   "nbconvert_exporter": "python",
   "pygments_lexer": "ipython3",
   "version": "3.7.3"
  }
 },
 "nbformat": 4,
 "nbformat_minor": 2
}
