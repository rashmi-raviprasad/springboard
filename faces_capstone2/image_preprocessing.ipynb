{
 "cells": [
  {
   "cell_type": "code",
   "execution_count": 1,
   "metadata": {},
   "outputs": [
    {
     "ename": "ModuleNotFoundError",
     "evalue": "No module named 'cv2'",
     "output_type": "error",
     "traceback": [
      "\u001b[1;31m---------------------------------------------------------------------------\u001b[0m",
      "\u001b[1;31mModuleNotFoundError\u001b[0m                       Traceback (most recent call last)",
      "\u001b[1;32m<ipython-input-1-c7e488db2fe5>\u001b[0m in \u001b[0;36m<module>\u001b[1;34m\u001b[0m\n\u001b[0;32m      1\u001b[0m \u001b[0mget_ipython\u001b[0m\u001b[1;33m(\u001b[0m\u001b[1;33m)\u001b[0m\u001b[1;33m.\u001b[0m\u001b[0mrun_line_magic\u001b[0m\u001b[1;33m(\u001b[0m\u001b[1;34m'matplotlib'\u001b[0m\u001b[1;33m,\u001b[0m \u001b[1;34m'inline'\u001b[0m\u001b[1;33m)\u001b[0m\u001b[1;33m\u001b[0m\u001b[1;33m\u001b[0m\u001b[0m\n\u001b[0;32m      2\u001b[0m \u001b[1;32mimport\u001b[0m \u001b[0mos\u001b[0m\u001b[1;33m\u001b[0m\u001b[1;33m\u001b[0m\u001b[0m\n\u001b[1;32m----> 3\u001b[1;33m \u001b[1;32mimport\u001b[0m \u001b[0mcv2\u001b[0m\u001b[1;33m\u001b[0m\u001b[1;33m\u001b[0m\u001b[0m\n\u001b[0m\u001b[0;32m      4\u001b[0m \u001b[1;32mimport\u001b[0m \u001b[0mnumpy\u001b[0m \u001b[1;32mas\u001b[0m \u001b[0mnp\u001b[0m\u001b[1;33m\u001b[0m\u001b[1;33m\u001b[0m\u001b[0m\n\u001b[0;32m      5\u001b[0m \u001b[1;32mimport\u001b[0m \u001b[0mmatplotlib\u001b[0m\u001b[1;33m.\u001b[0m\u001b[0mpyplot\u001b[0m \u001b[1;32mas\u001b[0m \u001b[0mplt\u001b[0m\u001b[1;33m\u001b[0m\u001b[1;33m\u001b[0m\u001b[0m\n",
      "\u001b[1;31mModuleNotFoundError\u001b[0m: No module named 'cv2'"
     ]
    }
   ],
   "source": [
    "%matplotlib inline\n",
    "import os\n",
    "import cv2\n",
    "import numpy as np\n",
    "import matplotlib.pyplot as plt\n",
    "from collections import namedtuple"
   ]
  },
  {
   "cell_type": "code",
   "execution_count": null,
   "metadata": {},
   "outputs": [],
   "source": [
    "Coords = namedtuple('Coords', ['n_pts', 'x_l_eye', 'y_l_eye', 'x_r_eye', 'y_r_eye', 'x_mouth', 'y_mouth',\n",
    "                              'x_l_ear1', 'y_l_ear1', 'x_l_ear2', 'y_l_ear2', 'x_l_ear3', 'y_l_ear3',\n",
    "                              'x_r_ear1', 'y_r_ear1', 'x_r_ear2', 'y_r_ear2', 'x_r_ear3', 'y_r_ear3'])"
   ]
  },
  {
   "cell_type": "code",
   "execution_count": null,
   "metadata": {},
   "outputs": [],
   "source": [
    "#if using windows file system\n",
    "#FILE_LOC = 'test_dataset/'\n",
    "#if using linux file system\n",
    "FILE_LOC = 'cat_dataset/preprocessing_test/'\n",
    "files = []\n",
    "for file in os.listdir(FILE_LOC):\n",
    "    if file.endswith('.cat'):\n",
    "        files.append(file)\n",
    "\n",
    "coord_dict = {}\n",
    "filenames = [f.split('.')[-3][4:] for f in files]\n",
    "for i, f in enumerate(files):\n",
    "    with open(FILE_LOC + f) as file:\n",
    "        for line in file:\n",
    "            coord_dict[filenames[i]] = Coords(*[int(l) for l in line.split()])"
   ]
  },
  {
   "cell_type": "code",
   "execution_count": null,
   "metadata": {},
   "outputs": [],
   "source": [
    "img_files = []\n",
    "for file in os.listdir(FILE_LOC):\n",
    "    if file.endswith('.jpg'):\n",
    "        img_files.append(file)\n",
    "        \n",
    "image_dict = {}\n",
    "img_names = [i.split('.')[-2][4:] for i in img_files]\n",
    "for i, f in enumerate(img_files):\n",
    "    image_dict[img_names[i]] = cv2.imread(FILE_LOC + f)\n",
    "\n",
    "#if using windows file system\n",
    "r = int(np.random.choice(10, 1))\n",
    "#if using linux file system\n",
    "r = int(np.random.choice(50, 1))\n",
    "plt.imshow(cv2.cvtColor(image_dict[img_names[r]], cv2.COLOR_BGR2RGB))\n",
    "plt.plot(coord_dict[filenames[r]].x_l_eye, coord_dict[filenames[r]].y_l_eye, 'ro')\n",
    "plt.plot(coord_dict[filenames[r]].x_r_eye, coord_dict[filenames[r]].y_r_eye, 'ro')\n",
    "plt.plot(coord_dict[filenames[r]].x_mouth, coord_dict[filenames[r]].y_mouth, 'ro')\n",
    "plt.plot(coord_dict[filenames[r]].x_l_ear1, coord_dict[filenames[r]].y_l_ear1, 'ro')\n",
    "plt.plot(coord_dict[filenames[r]].x_l_ear2, coord_dict[filenames[r]].y_l_ear2, 'ro')\n",
    "plt.plot(coord_dict[filenames[r]].x_l_ear3, coord_dict[filenames[r]].y_l_ear3, 'ro')\n",
    "plt.plot(coord_dict[filenames[r]].x_r_ear1, coord_dict[filenames[r]].y_r_ear1, 'ro')\n",
    "plt.plot(coord_dict[filenames[r]].x_r_ear2, coord_dict[filenames[r]].y_r_ear2, 'ro')\n",
    "plt.plot(coord_dict[filenames[r]].x_r_ear3, coord_dict[filenames[r]].y_r_ear3, 'ro')\n",
    "plt.show()"
   ]
  },
  {
   "cell_type": "code",
   "execution_count": null,
   "metadata": {},
   "outputs": [],
   "source": []
  },
  {
   "cell_type": "code",
   "execution_count": null,
   "metadata": {},
   "outputs": [],
   "source": []
  },
  {
   "cell_type": "code",
   "execution_count": null,
   "metadata": {},
   "outputs": [],
   "source": []
  },
  {
   "cell_type": "code",
   "execution_count": null,
   "metadata": {},
   "outputs": [],
   "source": []
  },
  {
   "cell_type": "code",
   "execution_count": null,
   "metadata": {},
   "outputs": [],
   "source": []
  },
  {
   "cell_type": "code",
   "execution_count": null,
   "metadata": {},
   "outputs": [],
   "source": []
  },
  {
   "cell_type": "code",
   "execution_count": null,
   "metadata": {},
   "outputs": [],
   "source": []
  },
  {
   "cell_type": "code",
   "execution_count": null,
   "metadata": {},
   "outputs": [],
   "source": []
  },
  {
   "cell_type": "code",
   "execution_count": null,
   "metadata": {},
   "outputs": [],
   "source": []
  },
  {
   "cell_type": "code",
   "execution_count": null,
   "metadata": {},
   "outputs": [],
   "source": []
  },
  {
   "cell_type": "code",
   "execution_count": null,
   "metadata": {},
   "outputs": [],
   "source": []
  },
  {
   "cell_type": "code",
   "execution_count": null,
   "metadata": {},
   "outputs": [],
   "source": []
  },
  {
   "cell_type": "code",
   "execution_count": null,
   "metadata": {},
   "outputs": [],
   "source": []
  },
  {
   "cell_type": "code",
   "execution_count": null,
   "metadata": {},
   "outputs": [],
   "source": []
  }
 ],
 "metadata": {
  "kernelspec": {
   "display_name": "Python 3",
   "language": "python",
   "name": "python3"
  },
  "language_info": {
   "codemirror_mode": {
    "name": "ipython",
    "version": 3
   },
   "file_extension": ".py",
   "mimetype": "text/x-python",
   "name": "python",
   "nbconvert_exporter": "python",
   "pygments_lexer": "ipython3",
   "version": "3.7.4"
  }
 },
 "nbformat": 4,
 "nbformat_minor": 2
}
