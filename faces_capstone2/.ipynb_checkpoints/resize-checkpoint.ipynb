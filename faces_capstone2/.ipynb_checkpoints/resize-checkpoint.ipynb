{
 "cells": [
  {
   "cell_type": "code",
   "execution_count": 1,
   "metadata": {},
   "outputs": [],
   "source": [
    "import os\n",
    "import cv2\n",
    "import numpy as np\n",
    "import matplotlib.pyplot as plt"
   ]
  },
  {
   "cell_type": "code",
   "execution_count": 2,
   "metadata": {},
   "outputs": [],
   "source": [
    "CAT_DIR = 'processed_cats/'\n",
    "FACE_DIR = 'processed_faces/'\n",
    "NEW_CAT_DIR = 'NEW_FINAL_CATS/'\n",
    "NEW_FACE_DIR = 'NEW_FINAL_FACES/'\n",
    "DIM = (256, 256)\n",
    "\n",
    "cat_list = os.listdir(CAT_DIR)\n",
    "face_list = os.listdir(FACE_DIR)"
   ]
  },
  {
   "cell_type": "code",
   "execution_count": null,
   "metadata": {},
   "outputs": [
    {
     "name": "stdout",
     "output_type": "stream",
     "text": [
      "0032_002.jpg\n",
      "0059_002.jpg\n",
      "0065_027.jpg\n",
      "0119_015.jpg\n",
      "0120_024.jpg\n",
      "0122_028.jpg\n",
      "0124_017.jpg\n",
      "0129_002.jpg\n",
      "0136_013.jpg\n",
      "0148_007.jpg\n",
      "0156_002.jpg\n",
      "0175_005.jpg\n",
      "0195_004.jpg\n",
      "0202_022.jpg\n",
      "0210_019.jpg\n",
      "0230_022.jpg\n"
     ]
    }
   ],
   "source": [
    "for cat in cat_list:\n",
    "    try:\n",
    "        img = cv2.imread(CAT_DIR+cat)\n",
    "        img_res = cv2.resize(img, DIM)\n",
    "        cv2.imwrite(NEW_CAT_DIR+cat, img_res)\n",
    "    except:\n",
    "        print(cat)"
   ]
  },
  {
   "cell_type": "code",
   "execution_count": 9,
   "metadata": {},
   "outputs": [
    {
     "name": "stdout",
     "output_type": "stream",
     "text": [
      "0009b1039ef82e7de342994d47b89398b7da011f.jpg\n",
      "013e07d8a6cfb38d80e8e09695dabdedf231342a.jpg\n",
      "0166ffdd0780489eab556dc2e0d65067281558d7.jpg\n",
      "03fbdf65324b541ac53776d54e3225ff7ca54a40.jpg\n",
      "082511ee1e3a153c33fbecda178af61849501afb.jpg\n",
      "09cccc4d2325f8f78070bd9dafd1d108cb6029e8.jpg\n",
      "0a56d9189e568f7f53ba32fcb290fcd8444cd733.jpg\n",
      "0a96bde5abb65da095bb6332e5e282e97e346e3f.jpg\n",
      "0b663660ad7adc9b4d8c490a2b3d2044317e283d.jpg\n",
      "16e57679bc3d4d6182cd52e0c537665d22fb35aa.jpg\n",
      "1b76a193fc3d1b57c1c026b7adb057b7ce6c48bb.jpg\n",
      "1c125dd2f2289f8fdf2b0f5f17ed286671897bea.jpg\n",
      "1ccc1f155b688a9c31f36083d6c24611d5874192.jpg\n",
      "2182c8552b739d87006debcf366a062ac4f84526.jpg\n",
      "2be78cb5dde7c9af68096a48dd1bcd59a7d46a57.jpg\n",
      "2bfcae39bd63fabfffb4c0098213199b8622b6bc.jpg\n",
      "2f313b750b26b53a688ac02fc27a7bab93004202.jpg\n",
      "305660f2e3dd64b6c480f7c3990a4209f49c4899.jpg\n",
      "36a9e918e58cc0cf8c3341f9393c6b701989b260.jpg\n",
      "37e6fbd79c1d70eb49c281f7e9751a49a3de3856.jpg\n",
      "3b2a68ea80697beef381efa380cb830d884e3f0b.jpg\n",
      "3fd9657542289af2424f0434f4985043a94b1954.jpg\n",
      "41621ba6a4c61224c2851bb85fe78d1fd24fe45c.jpg\n",
      "4689046722f6305b8d0e46639c6f9faf0057587e.jpg\n",
      "4b1b9219baba17950d3e922804cd3289f574af19.jpg\n",
      "4c1d1059289fdae7de26f724723ac71274497162.jpg\n",
      "54fd64ad6f193959901f123419d02d9789550015.jpg\n",
      "575af1ade63cf99cc3d3262786545f3fede1c7e6.jpg\n",
      "59cbfd3396c949393bff091cfe612997c51669b2.jpg\n",
      "5ddbf5f75ccf4e49c82604b3c122db2cf139edfe.jpg\n",
      "5de5b8872b70f0235301acaa50f1edb2c486265d.jpg\n",
      "5edc1eaa1fa79e405f4c3324180dce5ad7287c7c.jpg\n",
      "6065544345fcd1030b9ae964e4f673dc17fbf56c.jpg\n",
      "6165158fe7ba5f45d45050f08d847385c04cdda4.jpg\n",
      "642812fd84bedfe09b8d743fea41e0e82ffadbb1.jpg\n",
      "6651bdba66031ad76b35702f6f9945232a8886f8.jpg\n",
      "667daba155ba99278a08f910a90f4905bb67dbd9.jpg\n",
      "6b993ef89a93d8bde90301a409a71fde8654759b.jpg\n",
      "7331989317f8c60f505185bc491660f5596b883c.jpg\n",
      "7577bbc6d97431c0fb43eaad3558887800c9aa23.jpg\n",
      "7b05044550120356fbf7728820a4e9deec2a02fd.jpg\n",
      "7b16eeb11dae6b877561e559a1548c8875579122.jpg\n",
      "822cb0a5dcc27d8f67cc3bf121f487eca45f8b5c.jpg\n",
      "8282e530f1510fff56f728d3188ed772fa490c09.jpg\n",
      "84dfde0daabe21c9381ca43034423be051f14b1c.jpg\n",
      "8674a49ecf76ab2c7eeb58713ef620af550e9bcf.jpg\n",
      "8bd7215df16fdc2db8e81a58c9bc139799a02459.jpg\n",
      "8d9cc3b430181910c8d9b9a111df645552bce881.jpg\n",
      "930d4a8e6c6374d420e3140adbaf8b1498451d67.jpg\n",
      "984ee058004c2d34e4d0ec7a550aff34103bd4cc.jpg\n",
      "9c3bfafd59fb6c8579c33fbc7e622e5b6d53c303.jpg\n",
      "9f33937d610d1fd9ce0b95b82e4821c4d958ea08.jpg\n",
      "a8810d159df9e254f4a50033765660cd2fd69ee7.jpg\n",
      "aca37314a7d465fd7808d4baf84dd5cd4ae035e3.jpg\n",
      "b082280356cad779fe0fa65f1423fd3d124bbbfe.jpg\n",
      "b282e592fe86394b01426e7c6b13404854be8c09.jpg\n",
      "b54db77307483943ca29d4a1a7de1fe234528915.jpg\n",
      "bbf25a0f0a304d464067ee23c7d8a178da04f381.jpg\n",
      "bcb91157f30de9415f0c55e2d7fb10bd9de6d841.jpg\n",
      "bf0c28e019799c5ea4dd2628ad8b472d052eb734.jpg\n",
      "c0c06fb02c9a28806c33f8136e349b6ad9314a9b.jpg\n",
      "c13a7e8d4c0497d0b7b239b836a430cc6a46245a.jpg\n",
      "c288724ff80f3499eb8d80d619401e5dce4963e5.jpg\n",
      "c431f63586b2f572116bd742c3d408dbbc136a93.jpg\n",
      "c526a43981ff5d0299725fc8ec48c2ad75a732a6.jpg\n",
      "c824986e3e0b8579f645d015b66c7390c968d40f.jpg\n",
      "ca3561e76cf8136f6099674aa613cbc154994dd7.jpg\n",
      "cb34c44cc8dd10a6f9e62af8ad1fc77e161e6de7.jpg\n",
      "cb56cfc44eb575b0b67e62bd9ac1a88af5663e1c.jpg\n",
      "cfc53c281370feddc22d0c9b82e588d16da51b6f.jpg\n",
      "d051575b20204c82885b0762fc163abc46949e50.jpg\n",
      "d1d4e2b36077a0c612043a0621993e3094df5177.jpg\n",
      "d40d71d7637bf8615646e5c2f47b371cf3ccb3ce.jpg\n",
      "d905fea4386b63a885adc1616ce6031e0ef4845e.jpg\n",
      "d90b59095e921e2fbd1074a0d797439d83a80199.jpg\n",
      "dcdd454ddb13447962eea53fc0ee988760ebbfde.jpg\n",
      "e1abee1020a8fc38cba22799a6baee179199cb8b.jpg\n",
      "e47660d7317ed0b1acc77c958bb94c41ae7e5061.jpg\n",
      "e4934c372f5078629de6c1b0522ed017a39d5db3.jpg\n",
      "e4ee663c835180ce424a31855853558e9f085cc5.jpg\n",
      "e4efa6479a02b590f1bd1506dee58f12b838588d.jpg\n",
      "e6ee239e7ede04194e73144cc5006d6d7de33fb2.jpg\n",
      "e84d842c34cf62dd83b9b13972f764434551fac1.jpg\n",
      "e8af8851cdf73e569f513a231316bcb9f7fe06d2.jpg\n",
      "e9c3af1d283abd942521859c3d30a311d64c5370.jpg\n",
      "f15aa54a8a0142d44fb663783c522ab3af13e568.jpg\n",
      "f20b392bdcacc8fbf7c454855fef00a2c32e4a13.jpg\n",
      "f24b3774eb258d065a01cbc9a378de5cf009d59f.jpg\n",
      "f3f33f6380e6007a1a3873b92b3a793fe2048bf0.jpg\n",
      "f639ffaef08dda75770253f75ef89be47da2e54b.jpg\n",
      "f705da6268dd024764a56b884bbca102f99f16b5.jpg\n",
      "f89adc67bda2c8ce10d1b30313e11451c9a21dc9.jpg\n",
      "fa9e7ad19509aec4a6415daf6bc5c9f60ba6c43e.jpg\n",
      "fc6bf4c70318214b142e1fd29d8fa8c16d6e3395.jpg\n",
      "fd1131ba3ad7c128b11b0676f30371e75ae18710.jpg\n",
      "output.txt\n"
     ]
    }
   ],
   "source": [
    "for face in face_list:\n",
    "    try:\n",
    "        img = cv2.imread(FACE_DIR+face)\n",
    "        img_res = cv2.resize(img, DIM)\n",
    "        cv2.imwrite(NEW_FACE_DIR+face, img_res)\n",
    "    except:\n",
    "        print(face)"
   ]
  }
 ],
 "metadata": {
  "kernelspec": {
   "display_name": "Python 3",
   "language": "python",
   "name": "python3"
  },
  "language_info": {
   "codemirror_mode": {
    "name": "ipython",
    "version": 3
   },
   "file_extension": ".py",
   "mimetype": "text/x-python",
   "name": "python",
   "nbconvert_exporter": "python",
   "pygments_lexer": "ipython3",
   "version": "3.7.3"
  }
 },
 "nbformat": 4,
 "nbformat_minor": 2
}
